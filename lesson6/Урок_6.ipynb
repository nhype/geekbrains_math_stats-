{
  "nbformat": 4,
  "nbformat_minor": 0,
  "metadata": {
    "colab": {
      "name": "Урок 6.ipynb",
      "provenance": []
    },
    "kernelspec": {
      "name": "python3",
      "display_name": "Python 3"
    }
  },
  "cells": [
    {
      "cell_type": "code",
      "metadata": {
        "id": "WmNvm0vJ0uVy",
        "colab_type": "code",
        "colab": {}
      },
      "source": [
        "import numpy as np\n",
        "from scipy.stats import norm\n",
        "from scipy.stats import t\n",
        "import math\n"
      ],
      "execution_count": 0,
      "outputs": []
    },
    {
      "cell_type": "markdown",
      "metadata": {
        "id": "GUjBhF2Xzu_S",
        "colab_type": "text"
      },
      "source": [
        "1) Даны значения величины заработной платы заемщиков банка (zp) и значения их поведенческого кредитного скоринга (ks):\n",
        "zp = [35, 45, 190, 200, 40, 70, 54, 150, 120, 110],\n",
        "ks = [401, 574, 874, 919, 459, 739, 653, 902, 746, 832].\n",
        "Найдите ковариацию этих двух величин с помощью элементарных действий, а затем с помощью функции cov из numpy\n",
        "Полученные значения должны быть равны.\n",
        "Найдите коэффициент корреляции Пирсона с помощью ковариации и среднеквадратичных отклонений двух признаков,\n",
        "а затем с использованием функций из библиотек numpy и pandas."
      ]
    },
    {
      "cell_type": "code",
      "metadata": {
        "id": "o67-eN20y4MX",
        "colab_type": "code",
        "colab": {
          "base_uri": "https://localhost:8080/",
          "height": 119
        },
        "outputId": "3a906b4c-8813-4d29-c771-510f32f1a7f2"
      },
      "source": [
        "zp = np.array([35, 45, 190, 200, 40, 70, 54, 150, 120, 110])\n",
        "ks = np.array([401, 574, 874, 919, 459, 739, 653, 902, 746, 832])\n",
        "\n",
        "cov_elementary = np.mean(zp*ks)-np.mean(zp)*np.mean(ks)\n",
        "cov_numpy = np.cov(zp,ks,ddof=0)\n",
        "print(f\"Элементарные действия {cov_elementary}, numpy {cov_numpy}\")\n",
        "\n",
        "pirson_cherez_otklonenie = cov_elementary/(np.std(zp, ddof=0)*np.std(ks, ddof=0))\n",
        "pirson_numpy = np.corrcoef(ks, zp, ddof=0)\n",
        "print(f\"Пирсон вручную {pirson_cherez_otklonenie}, numpy {pirson_numpy}\")"
      ],
      "execution_count": 12,
      "outputs": [
        {
          "output_type": "stream",
          "text": [
            "Элементарные действия 9157.839999999997, numpy [[ 3494.64  9157.84]\n",
            " [ 9157.84 30468.89]]\n",
            "Пирсон вручную 0.8874900920739158, numpy [[1.         0.88749009]\n",
            " [0.88749009 1.        ]]\n"
          ],
          "name": "stdout"
        },
        {
          "output_type": "stream",
          "text": [
            "/usr/local/lib/python3.6/dist-packages/ipykernel_launcher.py:9: DeprecationWarning: bias and ddof have no effect and are deprecated\n",
            "  if __name__ == '__main__':\n"
          ],
          "name": "stderr"
        }
      ]
    },
    {
      "cell_type": "markdown",
      "metadata": {
        "id": "sDoqR2YK2j3F",
        "colab_type": "text"
      },
      "source": [
        "2) Измерены значения IQ выборки студентов,\n",
        "обучающихся в местных технических вузах:\n",
        "131, 125, 115, 122, 131, 115, 107, 99, 125, 111.\n",
        "Известно, что в генеральной совокупности IQ распределен нормально.\n",
        "Найдите доверительный интервал для математического ожидания с надежностью 0.95."
      ]
    },
    {
      "cell_type": "code",
      "metadata": {
        "id": "Rm19xHoE2mLD",
        "colab_type": "code",
        "colab": {
          "base_uri": "https://localhost:8080/",
          "height": 34
        },
        "outputId": "d6410671-4b63-43cc-b76e-77d52b31c5da"
      },
      "source": [
        "arr = np.array([131, 125, 115, 122, 131, 115, 107, 99, 125, 111])\n",
        "n = len(arr)\n",
        "df = n - 1\n",
        "mu = np.mean(arr)\n",
        "sigma = np.std(arr, ddof=1)\n",
        "student = t.interval(0.95, df)\n",
        "left = mu + t.interval(0.95, df)[0]\n",
        "right = mu + t.interval(0.95, df)[1]\n",
        "print(f\"Доверительный интервал [{left};{right}] с надежностью 0.95\")\n",
        "#берем коэфф стьюдента\n"
      ],
      "execution_count": 14,
      "outputs": [
        {
          "output_type": "stream",
          "text": [
            "Доверительный интервал [115.837842837259;120.36215716274098]\n"
          ],
          "name": "stdout"
        }
      ]
    },
    {
      "cell_type": "markdown",
      "metadata": {
        "id": "My4xS6Os3fK6",
        "colab_type": "text"
      },
      "source": [
        "3) Известно, что рост футболистов в сборной распределен нормально\n",
        "с дисперсией генеральной совокупности, равной 25 кв.см. Объем выборки равен 27,\n",
        "среднее выборочное составляет 174.2. Найдите доверительный интервал для математического\n",
        "ожидания с надежностью 0.95."
      ]
    },
    {
      "cell_type": "code",
      "metadata": {
        "id": "NB6thfuQ3lwR",
        "colab_type": "code",
        "colab": {
          "base_uri": "https://localhost:8080/",
          "height": 34
        },
        "outputId": "42c895af-8866-4bf1-daa6-d9f01772532e"
      },
      "source": [
        "n=27\n",
        "mu=174.2\n",
        "DX = 25\n",
        "sigma=math.sqrt(DX)\n",
        "p = 0.975\n",
        "z = norm.ppf(p)\n",
        "\n",
        "left = mu - z*sigma/math.sqrt(n)\n",
        "right = mu + z*sigma/math.sqrt(n)\n",
        "\n",
        "print(f\"Доверительный интервал [{left};{right}] с надежностью 0.95\")"
      ],
      "execution_count": 19,
      "outputs": [
        {
          "output_type": "stream",
          "text": [
            "Доверительный интервал [172.3140237765397;176.08597622346028] с надежностью 0.95\n"
          ],
          "name": "stdout"
        }
      ]
    }
  ]
}