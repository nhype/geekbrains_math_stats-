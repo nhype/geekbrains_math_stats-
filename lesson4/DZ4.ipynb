{
  "nbformat": 4,
  "nbformat_minor": 0,
  "metadata": {
    "colab": {
      "name": "DZ4.ipynb",
      "provenance": []
    },
    "kernelspec": {
      "name": "python3",
      "display_name": "Python 3"
    }
  },
  "cells": [
    {
      "cell_type": "markdown",
      "metadata": {
        "id": "t74F1eYwSlhk",
        "colab_type": "text"
      },
      "source": [
        "Случайная непрерывная величина A имеет равномерное распределение на промежутке (200, 800].\n",
        "Найдите ее среднее значение и дисперсию."
      ]
    },
    {
      "cell_type": "code",
      "metadata": {
        "id": "oOSioGu5SW2E",
        "colab_type": "code",
        "outputId": "e5cac303-ffbe-4e82-91e3-d9a48973fa7c",
        "colab": {
          "base_uri": "https://localhost:8080/",
          "height": 34
        }
      },
      "source": [
        "a=200\n",
        "b=800\n",
        "MX = (a+b)/2\n",
        "DX = pow((b-a),2)/12\n",
        "print(f'Мат ожидание = среднее = {MX}, дисперсия = {DX}')"
      ],
      "execution_count": 0,
      "outputs": [
        {
          "output_type": "stream",
          "text": [
            "Мат ожидание = среднее = 500.0, дисперсия = 30000.0\n"
          ],
          "name": "stdout"
        }
      ]
    },
    {
      "cell_type": "markdown",
      "metadata": {
        "id": "nlhKms4bTpCG",
        "colab_type": "text"
      },
      "source": [
        "О случайной непрерывной равномерно распределенной величине B известно, что ее дисперсия равна 0.2.\n",
        "Можно ли найти правую границу величины B и ее среднее значение зная, что левая граница равна 0.5?\n",
        "Если да, найдите ее."
      ]
    },
    {
      "cell_type": "code",
      "metadata": {
        "id": "aS4HjfN-Trw3",
        "colab_type": "code",
        "outputId": "284a9774-615c-417a-ac50-aa2ab25c691b",
        "colab": {
          "base_uri": "https://localhost:8080/",
          "height": 34
        }
      },
      "source": [
        "import math\n",
        "a=0.5\n",
        "DX = 0.2\n",
        "#(b-0.5)^2/12 = DX\n",
        "b1 = math.sqrt(12*DX) + 0.5\n",
        "b2 = -1*math.sqrt(12*DX) + 0.5\n",
        "\n",
        "MX1 = (a+b1)/2\n",
        "MX2 = (a+b2)/2\n",
        "\n",
        "print(f'b1 = {b1}, MX1={MX1}, b2 = {b2}, MX2 = {MX2}')"
      ],
      "execution_count": 0,
      "outputs": [
        {
          "output_type": "stream",
          "text": [
            "b1 = 2.049193338482967, MX1=1.2745966692414834, b2 = -1.0491933384829668, MX2 = -0.2745966692414834\n"
          ],
          "name": "stdout"
        }
      ]
    },
    {
      "cell_type": "markdown",
      "metadata": {
        "id": "QHWdAQFcWvN5",
        "colab_type": "text"
      },
      "source": [
        "Непрерывная случайная величина X распределена нормально и задана плотностью распределения\n",
        "f(x) = (1 / (4 * sqrt(2*pi))) * (exp(-(x+2)**2) / 32).\n",
        "Найдите:\n",
        "а). M(X)\n",
        "б). D(X)\n",
        "в). std(X) (среднее квадратичное отклонение)"
      ]
    },
    {
      "cell_type": "markdown",
      "metadata": {
        "id": "oJUdTExkXXWv",
        "colab_type": "text"
      },
      "source": [
        "из формулы исходит, что"
      ]
    },
    {
      "cell_type": "code",
      "metadata": {
        "id": "239r62U0Xcpn",
        "colab_type": "code",
        "outputId": "391e5843-2c59-4d33-ed16-2bc4c8dfbbea",
        "colab": {
          "base_uri": "https://localhost:8080/",
          "height": 34
        }
      },
      "source": [
        "#MX = a\n",
        "MX = -2\n",
        "sigm = 4\n",
        "DX = pow(sigm,2)\n",
        "\n",
        "print(f'Мат ожидание {MX}, Дисперсия {DX}, Среднее квадратичное отклонение {sigm}')"
      ],
      "execution_count": 0,
      "outputs": [
        {
          "output_type": "stream",
          "text": [
            "Мат ожидание -2, Дисперсия 16, Среднее квадратичное отклонение 4\n"
          ],
          "name": "stdout"
        }
      ]
    },
    {
      "cell_type": "markdown",
      "metadata": {
        "id": "_YmcOPq2YAt1",
        "colab_type": "text"
      },
      "source": [
        "Рост взрослого населения города X имеет нормальное распределение.\n",
        "Причем, средний рост равен 174 см, а среднее квадратичное отклонение равно 8 см.\n",
        "Какова вероятность того, что случайным образом выбранный взрослый человек имеет рост:\n",
        "а). больше 182 см\n",
        "б). больше 190 см\n",
        "в). от 166 см до 190 см\n",
        "г). от 166 см до 182 см\n",
        "д). от 158 см до 190 см\n",
        "е). не выше 150 см или не ниже 190 см\n",
        "ё). не выше 150 см или не ниже 198 см\n",
        "ж). ниже 166 см."
      ]
    },
    {
      "cell_type": "markdown",
      "metadata": {
        "id": "HDlsBYJ5i6Vg",
        "colab_type": "text"
      },
      "source": [
        "<img src='https://ru.files.fm/thumb_show.php?i=wmq8yuhw&view' width=500> </img> Рис 3. График плотности нормального распределения"
      ]
    },
    {
      "cell_type": "markdown",
      "metadata": {
        "id": "3ayj-vKTgtkO",
        "colab_type": "text"
      },
      "source": [
        "везде пользуемся правилом трех сигм"
      ]
    },
    {
      "cell_type": "markdown",
      "metadata": {
        "id": "gTmIdKEbf1wx",
        "colab_type": "text"
      },
      "source": [
        "![alt text](https://i.ibb.co/XY2FQ8L/IMG-2309.jpg)"
      ]
    },
    {
      "cell_type": "markdown",
      "metadata": {
        "id": "gCsuB8YlgwaP",
        "colab_type": "text"
      },
      "source": [
        "На сколько сигм (средних квадратичных отклонений) отклоняется рост человека, равный 190 см, от\n",
        "математического ожидания роста в популяции, в которой M(X) = 178 см и D(X) = 25 кв.см?"
      ]
    },
    {
      "cell_type": "code",
      "metadata": {
        "id": "7WMA-1M2g6t_",
        "colab_type": "code",
        "colab": {
          "base_uri": "https://localhost:8080/",
          "height": 34
        },
        "outputId": "7c7f4e81-e327-4724-88f7-51c15fca904a"
      },
      "source": [
        "DX = 25\n",
        "sigm = math.sqrt(DX)\n",
        "MX = 178\n",
        "\n",
        "rost = 190\n",
        "num_sigm = (rost-MX)/sigm\n",
        "print(f'На {num_sigm} сигм')"
      ],
      "execution_count": 13,
      "outputs": [
        {
          "output_type": "stream",
          "text": [
            "На 2.4 сигм\n"
          ],
          "name": "stdout"
        }
      ]
    }
  ]
}