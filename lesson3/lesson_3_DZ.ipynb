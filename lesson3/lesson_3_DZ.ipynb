{
  "nbformat": 4,
  "nbformat_minor": 0,
  "metadata": {
    "colab": {
      "name": "lesson 3 DZ.ipynb",
      "provenance": []
    },
    "kernelspec": {
      "name": "python3",
      "display_name": "Python 3"
    }
  },
  "cells": [
    {
      "cell_type": "markdown",
      "metadata": {
        "id": "OUMmqbXU9-nh",
        "colab_type": "text"
      },
      "source": [
        "Даны значения зарплат из выборки выпускников: 100, 80, 75, 77, 89, 33, 45, 25, 65, 17, 30, 24, 57, 55, 70, 75, 65, 84, 90, 150. Посчитать (желательно без использования статистических методов наподобие std, var, mean) среднее арифметическое, среднее квадратичное отклонение, смещенную и несмещенную оценки дисперсий для данной выборки."
      ]
    },
    {
      "cell_type": "code",
      "metadata": {
        "id": "noJbzt4W97hD",
        "colab_type": "code",
        "colab": {
          "base_uri": "https://localhost:8080/",
          "height": 34
        },
        "outputId": "5d3f3ef9-2424-48c8-ae31-85070e3d6da9"
      },
      "source": [
        "import math\n",
        "def srednee(arr):\n",
        "  summa = sum(arr)\n",
        "  length = len(arr)\n",
        "  return summa/length\n",
        "\n",
        "def disp_nesm(arr):\n",
        "  mean = srednee(arr)\n",
        "  chislitel = 0\n",
        "  for i in arr:\n",
        "    chislitel += pow((i-mean), 2)\n",
        "  znamenatel = len(arr)-1\n",
        "  return chislitel/znamenatel\n",
        "\n",
        "def disp_sm(arr):\n",
        "  mean = srednee(arr)\n",
        "  chislitel = 0\n",
        "  for i in arr:\n",
        "    chislitel += pow((i-mean), 2)\n",
        "  znamenatel = len(arr)\n",
        "  return chislitel/znamenatel\n",
        "\n",
        "def srednee_otklonenie(arr):\n",
        "  return math.sqrt(disp_nesm(arr))\n",
        "\n",
        "\n",
        "zp = [100, 80, 75, 77, 89, 33, 45, 25, 65, 17, 30, 24, 57, 55, 70, 75, 65, 84, 90, 150]\n",
        "\n",
        "print(f'Среднее арифметическое {srednee(zp)}, Среднее отклонение {srednee_otklonenie(zp)}, Смещенная оценка дисперсии {disp_sm(zp)}, Несмещенная оценка дисперсии {disp_nesm(zp)}')"
      ],
      "execution_count": 19,
      "outputs": [
        {
          "output_type": "stream",
          "text": [
            "Среднее арифметическое 65.3, Среднее отклонение 31.624607341019814, Смещенная оценка дисперсии 950.11, Несмещенная оценка дисперсии 1000.1157894736842\n"
          ],
          "name": "stdout"
        }
      ]
    },
    {
      "cell_type": "markdown",
      "metadata": {
        "id": "W8tzv5ohCZmW",
        "colab_type": "text"
      },
      "source": [
        "В первом ящике находится 8 мячей, из которых 5 - белые. Во втором ящике - 12 мячей, из которых 5 белых. Из первого ящика вытаскивают случайным образом два мяча, из второго - 4. Какова вероятность того, что 3 мяча белые?"
      ]
    },
    {
      "cell_type": "code",
      "metadata": {
        "id": "Jaa7Oc9WDV5k",
        "colab_type": "code",
        "colab": {
          "base_uri": "https://localhost:8080/",
          "height": 34
        },
        "outputId": "a60d0b20-5aa1-4430-adec-d36a730a02a5"
      },
      "source": [
        "from math import factorial\n",
        "\n",
        "def C(n, k): #C\n",
        "    return int(factorial(n) / (factorial(k) * factorial(n - k)))\n",
        "\n",
        "\n",
        "#два белых из первого и один белый из второго\n",
        "\n",
        "P1 = (C(5,2)/C(8,2))*(C(5,1)*C(7,3)/C(12,4))\n",
        "\n",
        "#Один белый из первого и два белых из второго\n",
        "\n",
        "P2 = (C(5,1)*C(3,1)/C(8,2))*(C(5,2)*C(7,2)/C(12,4))\n",
        "\n",
        "#Два черных из первого и три белых из второго\n",
        "\n",
        "P3 = (C(3,2)/C(8,2))*(C(5,3)*C(7,1)/C(12,4))\n",
        "\n",
        "P = (P1+P2+P3)*100\n",
        "print(f'Вероятность {P}%')\n",
        "\n",
        "\n"
      ],
      "execution_count": 23,
      "outputs": [
        {
          "output_type": "stream",
          "text": [
            "Вероятность 36.868686868686865%\n"
          ],
          "name": "stdout"
        }
      ]
    },
    {
      "cell_type": "markdown",
      "metadata": {
        "id": "U9WMyUcCOUG-",
        "colab_type": "text"
      },
      "source": [
        "На соревновании по биатлону один из трех спортсменов стреляет и попадает в мишень. Вероятность попадания для первого спортсмена равна 0.9, для второго — 0.8, для третьего — 0.6. Найти вероятность того, что выстрел произведен: a). первым спортсменом б). вторым спортсменом в). третьим спортсменом."
      ]
    },
    {
      "cell_type": "code",
      "metadata": {
        "id": "E1x-JlH8Ridf",
        "colab_type": "code",
        "colab": {
          "base_uri": "https://localhost:8080/",
          "height": 52
        },
        "outputId": "db4a22b6-938c-4d7b-874f-218d9819191c"
      },
      "source": [
        "PA = 1/3 * 0.9 + 1/3 * 0.8 + 1/3*0.6 #по формуле полной вероятности\n",
        "\n",
        "P_B123 = 1/3\n",
        "\n",
        "P1 = P_B123 * 0.9 / PA\n",
        "P2 = P_B123 * 0.8 / PA\n",
        "P3 = P_B123 * 0.6 / PA\n",
        "\n",
        "print(f\"Вероятность, что первый {P1}, второй {P2}, третий {P3}\")"
      ],
      "execution_count": 25,
      "outputs": [
        {
          "output_type": "stream",
          "text": [
            "Вероятность, что первый 0.391304347826087, второй 0.3478260869565218, третий 0.2608695652173913\n",
            "0.7666666666666666\n"
          ],
          "name": "stdout"
        }
      ]
    },
    {
      "cell_type": "markdown",
      "metadata": {
        "id": "wBJmaf3ESFMD",
        "colab_type": "text"
      },
      "source": [
        "В университет на факультеты A и B поступило равное количество студентов, а на факультет C студентов поступило столько же, сколько на A и B вместе. Вероятность того, что студент факультета A сдаст первую сессию, равна 0.8. Для студента факультета B эта вероятность равна 0.7, а для студента факультета C - 0.9. Студент сдал первую сессию. Какова вероятность, что он учится: a). на факультете A б). на факультете B в). на факультете C?"
      ]
    },
    {
      "cell_type": "code",
      "metadata": {
        "id": "vJuXFCfPVrlL",
        "colab_type": "code",
        "colab": {
          "base_uri": "https://localhost:8080/",
          "height": 34
        },
        "outputId": "14c24ac8-a427-473c-f9c0-a7c6a9242199"
      },
      "source": [
        "x=1 #чтобы не ругался питон\n",
        "\n",
        "ver_A = 0.8\n",
        "ver_B = 0.7\n",
        "ver_C = 0.9\n",
        "A_students = x\n",
        "B_students = x\n",
        "C_students = 2*x\n",
        "total_students = A_students+B_students+C_students\n",
        "PA = A_students/total_students\n",
        "PB = B_students/total_students\n",
        "PC = C_students/total_students\n",
        "\n",
        "P_sdal = ver_A * PA + ver_B * PB + ver_C* PC\n",
        "\n",
        "P_studiesA = PA * ver_A / P_sdal\n",
        "P_studiesB = PB * ver_B / P_sdal\n",
        "P_studiesC = PC * ver_C / P_sdal\n",
        "\n",
        "print(f'Учится на факультете A {P_studiesA}, факультете B {P_studiesB}, факультете C {P_studiesC}')\n"
      ],
      "execution_count": 28,
      "outputs": [
        {
          "output_type": "stream",
          "text": [
            "Учится на факультете A 0.24242424242424246, факультете B 0.21212121212121213, факультете C 0.5454545454545455\n"
          ],
          "name": "stdout"
        }
      ]
    },
    {
      "cell_type": "markdown",
      "metadata": {
        "id": "7ukM0MDUXWWV",
        "colab_type": "text"
      },
      "source": [
        "Устройство состоит из трех деталей. Для первой детали вероятность выйти из строя в первый месяц равна 0.1, для второй - 0.2, для третьей - 0.25. Какова вероятность того, что в первый месяц выйдут из строя: а). все детали б). только две детали в). хотя бы одна деталь г). от одной до двух деталей?"
      ]
    },
    {
      "cell_type": "code",
      "metadata": {
        "id": "s5V6JUwZkBDM",
        "colab_type": "code",
        "colab": {
          "base_uri": "https://localhost:8080/",
          "height": 34
        },
        "outputId": "624af88a-94bf-4b55-c548-ab2a85e07842"
      },
      "source": [
        "p1=0.1\n",
        "p2=0.2\n",
        "p3=0.25\n",
        "q1=1-p1#обратная вероятность\n",
        "q2=1-p2\n",
        "q3=1-p3\n",
        "\n",
        "\n",
        "#все детали\n",
        "p_all = p1*p2*p3\n",
        "\n",
        "#только две детали\n",
        "p_only_two = p1*p2*q3 + q1*p2*p3 + p1*q2*p3\n",
        "\n",
        "#хотя бы одна деталь\n",
        "p_one_or_more = 1 - q1*q2*q3\n",
        "\n",
        "#от одной до двух деталей\n",
        "p_one_or_two = p1*q2*q3 + q1*p2*q3 + q1*q2*p3 + p_only_two\n",
        "\n",
        "print(f'Все детали {p_all}, только две {p_only_two}, хотя бы одна деталь {p_one_or_more}, от одной до двух деталей {p_one_or_two}')"
      ],
      "execution_count": 29,
      "outputs": [
        {
          "output_type": "stream",
          "text": [
            "Все детали 0.005000000000000001, только две 0.08000000000000002, хотя бы одна деталь 0.45999999999999996, от одной до двух деталей 0.455\n"
          ],
          "name": "stdout"
        }
      ]
    }
  ]
}