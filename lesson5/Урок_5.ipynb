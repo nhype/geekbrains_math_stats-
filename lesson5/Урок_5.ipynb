{
  "nbformat": 4,
  "nbformat_minor": 0,
  "metadata": {
    "colab": {
      "name": "Урок 5.ipynb",
      "provenance": []
    },
    "kernelspec": {
      "name": "python3",
      "display_name": "Python 3"
    }
  },
  "cells": [
    {
      "cell_type": "code",
      "metadata": {
        "id": "N79z50q1Hg4X",
        "colab_type": "code",
        "colab": {}
      },
      "source": [
        "from scipy.stats import norm\n",
        "from scipy.stats import t\n",
        "import numpy as np\n",
        "import math"
      ],
      "execution_count": 0,
      "outputs": []
    },
    {
      "cell_type": "markdown",
      "metadata": {
        "id": "wZOGG_7SKsjZ",
        "colab_type": "text"
      },
      "source": [
        "Известно, что генеральная совокупность распределена нормально со средним квадратическим отклонением, равным 16. Найти доверительный интервал для оценки математического ожидания a с надежностью 0.95, если выборочная средняя M = 80, а объем выборки n = 256."
      ]
    },
    {
      "cell_type": "code",
      "metadata": {
        "id": "ujgO9GoGKtoX",
        "colab_type": "code",
        "colab": {
          "base_uri": "https://localhost:8080/",
          "height": 34
        },
        "outputId": "bc3c62e7-1c40-452c-8b94-51cce66866c3"
      },
      "source": [
        "\n",
        "sigma = 16\n",
        "alpha = 1-0.95\n",
        "mean=80\n",
        "n=256\n",
        "#берем z критерий, так как известна сигма ген совокупности\n",
        "z_half_alpha = 1.96 #для 97.5%\n",
        "\n",
        "left = mean - z_half_alpha*16/math.sqrt(256)\n",
        "right = mean + z_half_alpha*16/math.sqrt(256)\n",
        "\n",
        "print(f\"Доверительный интервал [{left};{right}]\")"
      ],
      "execution_count": 6,
      "outputs": [
        {
          "output_type": "stream",
          "text": [
            "Доверительный интервал [78.04;81.96]\n"
          ],
          "name": "stdout"
        }
      ]
    },
    {
      "cell_type": "markdown",
      "metadata": {
        "id": "3oWz0HBkNDyK",
        "colab_type": "text"
      },
      "source": [
        "В результате 10 независимых измерений некоторой величины X, выполненных с одинаковой точностью, получены опытные данные: 6.9, 6.1, 6.2, 6.8, 7.5, 6.3, 6.4, 6.9, 6.7, 6.1 Предполагая, что результаты измерений подчинены нормальному закону распределения вероятностей, оценить истинное значение величины X при помощи доверительного интервала, покрывающего это значение с доверительной вероятностью 0,95."
      ]
    },
    {
      "cell_type": "code",
      "metadata": {
        "id": "u3GQdiV4NJCW",
        "colab_type": "code",
        "colab": {
          "base_uri": "https://localhost:8080/",
          "height": 34
        },
        "outputId": "d080ba38-204d-4023-de44-7d3b365ecfea"
      },
      "source": [
        "arr = np.array([6.9, 6.1, 6.2, 6.8, 7.5, 6.3, 6.4, 6.9, 6.7, 6.1])\n",
        "n = 10\n",
        "\n",
        "#берем критерий Стюдента\n",
        "\n",
        "df = n - 1\n",
        "alpha = 0.05\n",
        "\n",
        "mean = np.mean(arr)\n",
        "sigma = np.std(arr, ddof=1)\n",
        "student = t.interval(0.95, df)\n",
        "left = mean + student[0]*sigma/math.sqrt(n)\n",
        "right = mean + student[1]*sigma/math.sqrt(n)\n",
        "\n",
        "print(f\"Доверительный интервал [{left};{right}]\")"
      ],
      "execution_count": 15,
      "outputs": [
        {
          "output_type": "stream",
          "text": [
            "Доверительный интервал [6.267515851415713;6.912484148584288]\n"
          ],
          "name": "stdout"
        }
      ]
    },
    {
      "cell_type": "markdown",
      "metadata": {
        "id": "zWisSahLQBJF",
        "colab_type": "text"
      },
      "source": [
        "3. Утверждается, что шарики для подшипников, изготовленные автоматическим станком, имеют средний диаметр 17 мм.\n",
        "Используя односторонний критерий с α=0,05, проверить эту гипотезу, если в выборке из n=100 шариков средний диаметр\n",
        "оказался равным 17.5 мм, а дисперсия известна и равна 4 кв.мм. "
      ]
    },
    {
      "cell_type": "markdown",
      "metadata": {
        "id": "aXin5CHCQHmG",
        "colab_type": "text"
      },
      "source": [
        ""
      ]
    },
    {
      "cell_type": "code",
      "metadata": {
        "id": "20h_7GyQQGsB",
        "colab_type": "code",
        "colab": {
          "base_uri": "https://localhost:8080/",
          "height": 34
        },
        "outputId": "74a9ba3b-94be-4018-a79b-bdc3cb321b53"
      },
      "source": [
        "DX = 4\n",
        "sigma = math.sqrt(DX)\n",
        "n=100\n",
        "mu0 = 17\n",
        "mu = 17.5\n",
        "alpha = 0.05 #95%\n",
        "Zalpha = 1.645\n",
        "Zrass = (mu-mu0)/(sigma/math.sqrt(n))\n",
        "\n",
        "if Zrass < Zalpha:\n",
        "  print(f\"На доверительном уровне {alpha*100}% нулевая гипотеза верна, в генральной выборке средний диаметр равен {mu} мм\")\n",
        "else:\n",
        "   print(f\"На доверительном уровне {alpha*100}% верна альтернативная гипотеза, в генеральной выборке средний диаметр  равен {mu0} мм\")\n"
      ],
      "execution_count": 25,
      "outputs": [
        {
          "output_type": "stream",
          "text": [
            "На доверительном уровне 5.0% верна альтернативная гипотеза, в генеральной выборке средний диаметр  равен 17 мм\n"
          ],
          "name": "stdout"
        }
      ]
    },
    {
      "cell_type": "markdown",
      "metadata": {
        "id": "lKPikdqTUK9R",
        "colab_type": "text"
      },
      "source": [
        "4.Продавец утверждает, что средний вес пачки печенья составляет 200 г. Из партии извлечена выборка из 10 пачек. Вес каждой пачки составляет: 202, 203, 199, 197, 195, 201, 200, 204, 194, 190. Известно, что их веса распределены нормально. Верно ли утверждение продавца, если учитывать, что доверительная вероятность равна 99%?"
      ]
    },
    {
      "cell_type": "code",
      "metadata": {
        "id": "So7nUCXZUM3g",
        "colab_type": "code",
        "colab": {
          "base_uri": "https://localhost:8080/",
          "height": 51
        },
        "outputId": "8a0d7c17-3a05-4985-edc0-3078ef3a58ad"
      },
      "source": [
        "arr = np.array([202, 203, 199, 197, 195, 201, 200, 204, 194, 190])\n",
        "n = len(arr)\n",
        "mu0 = 200\n",
        "mu = np.mean(arr)\n",
        "alpha = 0.01 #alpha/2 = 0.005\n",
        "df = n-1\n",
        "sigma = np.std(arr, ddof=1)\n",
        "t_tablichnoe = t.interval(0.99, df)\n",
        "t_rasshetnoe = (mu-mu0)/(sigma/math.sqrt(n))\n",
        "print(\"t табличное\", t_tablichnoe, \"t рассчетное\", t_rasshetnoe)\n",
        "\n",
        "if t_rasshetnoe > t_tablichnoe[0] and t_rasshetnoe < t_tablichnoe[1]:\n",
        "  print(f\"Принимаем нулевую гипотезу с уровнем {alpha*100}%\")"
      ],
      "execution_count": 28,
      "outputs": [
        {
          "output_type": "stream",
          "text": [
            "t табличное (-3.2498355440153697, 3.2498355440153697) t рассчетное -1.0651074037450896\n",
            "Принимаем нулевую гипотезу с уровнем 1.0%\n"
          ],
          "name": "stdout"
        }
      ]
    }
  ]
}